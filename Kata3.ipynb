{
 "cells": [
  {
   "cell_type": "markdown",
   "metadata": {},
   "source": [
    "Ejercicio 1"
   ]
  },
  {
   "cell_type": "code",
   "execution_count": 18,
   "metadata": {},
   "outputs": [
    {
     "name": "stdout",
     "output_type": "stream",
     "text": [
      "!Puedes estar de lo mas tranquilo\n"
     ]
    }
   ],
   "source": [
    "asteroide = 49\n",
    "if asteroide > 1:\n",
    "    print('!Puedes estar de lo mas tranquilo')\n",
    "else:\n",
    "    print('¡Alerta roja! ¡Un asteroide se acerca como un volido!')"
   ]
  },
  {
   "cell_type": "markdown",
   "metadata": {},
   "source": [
    "Ejercicio 2"
   ]
  },
  {
   "cell_type": "code",
   "execution_count": 25,
   "metadata": {},
   "outputs": [
    {
     "name": "stdout",
     "output_type": "stream",
     "text": [
      "¡Nada que ver aquí!\n"
     ]
    }
   ],
   "source": [
    "asteroide = 50\n",
    "if asteroide > 50:\n",
    "    print('Un asteroide puede verse a lo lejos')\n",
    "elif asteroide == 1000:\n",
    "    print('Un asteroide puede verse a lo lejos')\n",
    "else:\n",
    "    print('¡Nada que ver aquí!')"
   ]
  },
  {
   "cell_type": "markdown",
   "metadata": {},
   "source": [
    "Ejercicio 3"
   ]
  },
  {
   "cell_type": "code",
   "execution_count": 32,
   "metadata": {},
   "outputs": [
    {
     "name": "stdout",
     "output_type": "stream",
     "text": [
      "Un asteroide puede verse a lo lejos\n"
     ]
    }
   ],
   "source": [
    "velocidad_asteroide = 25\n",
    "tamano_asteroide = 40\n",
    "if velocidad_asteroide > 5 and tamano_asteroide > 52:\n",
    "    print('¡Alerta roja! ¡Un asteroide se acerca como un volido!')\n",
    "elif velocidad_asteroide >= 20:\n",
    "    print('Un asteroide puede verse a lo lejos')\n",
    "elif tamano_asteroide < 55:\n",
    "    print('Nada que ver aquí')"
   ]
  }
 ],
 "metadata": {
  "interpreter": {
   "hash": "9dbb5876042b335627474d96de98e6d73df4723efd059702f0a28d52a6f2d5fc"
  },
  "kernelspec": {
   "display_name": "Python 3.10.2 64-bit",
   "language": "python",
   "name": "python3"
  },
  "language_info": {
   "codemirror_mode": {
    "name": "ipython",
    "version": 3
   },
   "file_extension": ".py",
   "mimetype": "text/x-python",
   "name": "python",
   "nbconvert_exporter": "python",
   "pygments_lexer": "ipython3",
   "version": "3.10.2"
  },
  "orig_nbformat": 4
 },
 "nbformat": 4,
 "nbformat_minor": 2
}
